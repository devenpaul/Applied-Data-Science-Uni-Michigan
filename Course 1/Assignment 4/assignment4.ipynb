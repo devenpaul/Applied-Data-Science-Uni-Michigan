{
 "cells": [
  {
   "cell_type": "markdown",
   "metadata": {
    "deletable": false,
    "editable": false,
    "etc_identifier": "653a3605-5bda-4e1f-beef-04a0173d3f41",
    "nbgrader": {
     "cell_type": "markdown",
     "checksum": "60da2e57814a61cf6a81dd670bf35473",
     "grade": false,
     "grade_id": "cell-a6c4f74309fc2379",
     "locked": true,
     "schema_version": 3,
     "solution": false
    },
    "tags": []
   },
   "source": [
    "# Assignment 4\n",
    "## Description\n",
    "In this assignment you must read in a file of metropolitan regions and associated sports teams from [assets/wikipedia_data.html](assets/wikipedia_data.html) and answer some questions about each metropolitan region. Each of these regions may have one or more teams from the \"Big 4\": NFL (football, in [assets/nfl.csv](assets/nfl.csv)), MLB (baseball, in [assets/mlb.csv](assets/mlb.csv)), NBA (basketball, in [assets/nba.csv](assets/nba.csv) or NHL (hockey, in [assets/nhl.csv](assets/nhl.csv)). Please keep in mind that all questions are from the perspective of the metropolitan region, and that this file is the \"source of authority\" for the location of a given sports team. Thus teams which are commonly known by a different area (e.g. \"Oakland Raiders\") need to be mapped into the metropolitan region given (e.g. San Francisco Bay Area). This will require some human data understanding outside of the data you've been given (e.g. you will have to hand-code some names, and might need to google to find out where teams are)!\n",
    "\n",
    "For each sport I would like you to answer the question: **what is the win/loss ratio's correlation with the population of the city it is in?** Win/Loss ratio refers to the number of wins over the number of wins plus the number of losses. Remember that to calculate the correlation with [`pearsonr`](https://docs.scipy.org/doc/scipy/reference/generated/scipy.stats.pearsonr.html), so you are going to send in two ordered lists of values, the populations from the wikipedia_data.html file and the win/loss ratio for a given sport in the same order. Average the win/loss ratios for those cities which have multiple teams of a single sport. Each sport is worth an equal amount in this assignment (20%\\*4=80%) of the grade for this assignment. You should only use data **from year 2018** for your analysis -- this is important!\n",
    "\n",
    "## Notes\n",
    "\n",
    "1. Do not include data about the MLS or CFL in any of the work you are doing, we're only interested in the Big 4 in this assignment.\n",
    "2. I highly suggest that you first tackle the four correlation questions in order, as they are all similar and worth the majority of grades for this assignment. This is by design!\n",
    "3. It's fair game to talk with peers about high level strategy as well as the relationship between metropolitan areas and sports teams. However, do not post code solving aspects of the assignment (including such as dictionaries mapping areas to teams, or regexes which will clean up names).\n",
    "4. There may be more teams than the assert statements test, remember to collapse multiple teams in one city into a single value!\n",
    "\n",
    "As this assignment utilizes global variables in the skeleton code, to avoid having errors in your code you can either:\n",
    "\n",
    "1. You can place all of your code within the function definitions for all of the questions (other than import statements).\n",
    "2. You can create copies of all the global variables with the copy() method and proceed as usual."
   ]
  },
  {
   "cell_type": "markdown",
   "metadata": {
    "deletable": false,
    "editable": false,
    "nbgrader": {
     "cell_type": "markdown",
     "checksum": "369ff9ecf0ee04640574205cbc697f94",
     "grade": false,
     "grade_id": "cell-712b2b5da63d4505",
     "locked": true,
     "schema_version": 3,
     "solution": false
    }
   },
   "source": [
    "## Question 1\n",
    "For this question, calculate the win/loss ratio's correlation with the population of the city it is in for the **NHL** using **2018** data."
   ]
  },
  {
   "cell_type": "code",
   "execution_count": 89,
   "metadata": {
    "deletable": false,
    "nbgrader": {
     "cell_type": "code",
     "checksum": "1cac4803b02502929f5b1612d48db2b5",
     "grade": false,
     "grade_id": "cell-69b16e4386e58030",
     "locked": false,
     "schema_version": 3,
     "solution": true
    }
   },
   "outputs": [],
   "source": [
    "import pandas as pd\n",
    "import numpy as np\n",
    "import scipy.stats as stats\n",
    "import re\n",
    "\n",
    "def clear_data(string1):\n",
    "    if re.search(r'\\[[a-z]* [0-9]+\\]', string1) is None:\n",
    "        return string1\n",
    "    else:\n",
    "        return string1.replace(re.search(r'\\[[a-z]* [0-9]+\\]', string1).group(), '')\n",
    "\n",
    "\n",
    "def get_area(team):\n",
    "    for each in list(nhl_cities.index.values):\n",
    "        if team in each:\n",
    "            return nhl_cities.at[each, 'Metropolitan area']\n",
    "\n",
    "\n",
    "nhl_df=pd.read_csv(\"assets/nhl.csv\")\n",
    "cities=pd.read_html(\"assets/wikipedia_data.html\")[1]\n",
    "cities=cities.iloc[:-1,[0,3,5,6,7,8]]\n",
    "cities['NHL'] = cities['NHL'].apply(lambda x: clear_data(x))\n",
    "nhl_cities = cities[['Metropolitan area', 'NHL']].set_index('NHL')\n",
    "nhl_cities = nhl_cities.drop(['—', ''], axis=0)\n",
    "nhl_df = nhl_df[nhl_df['year'] == 2018].drop([0, 9, 18, 26], axis=0) # get only 2018 stats\n",
    "population = cities[['Metropolitan area', 'Population (2016 est.)[8]']]\n",
    "population = population.set_index('Metropolitan area')\n",
    "nhl_df['team'] = nhl_df['team'].apply(lambda x: x[:-1].strip() if x.endswith(\"*\") else x.strip())\n",
    "nhl_df['area'] = nhl_df['team'].apply(lambda x: x.split(\" \")[-1])\n",
    "nhl_df['area'] = nhl_df['area'].apply(lambda x: get_area(x))\n",
    "out = []\n",
    "for group, frame in nhl_df.groupby('area'):\n",
    "    total_wins = np.sum(pd.to_numeric(frame['W']))\n",
    "    total_losses = np.sum(pd.to_numeric(frame['L']))\n",
    "    total_matches = total_wins + total_losses\n",
    "    ratio = total_wins / total_matches\n",
    "    out_dict = {\n",
    "        'Area': group,\n",
    "        'Ratio': ratio\n",
    "    }\n",
    "    out.append(out_dict)\n",
    "new_df = pd.DataFrame(out)\n",
    "new_df = new_df.set_index('Area')\n",
    "out_df = pd.merge(new_df, population, how=\"inner\", left_index=True, right_index=True)\n",
    "out_df['Population (2016 est.)[8]'] = pd.to_numeric(out_df['Population (2016 est.)[8]'])\n",
    "\n",
    "def nhl_correlation(): \n",
    "    population_by_region = []  # pass in metropolitan area population from cities\n",
    "    win_loss_by_region = []  # pass in win/loss ratio from nhl_df in the same order as cities[\"Metropolitan area\"]\n",
    "    population_by_region = out_df['Population (2016 est.)[8]'].to_list()\n",
    "    win_loss_by_region = out_df['Ratio'].to_list()\n",
    "\n",
    "    assert len(population_by_region) == len(win_loss_by_region), \"Q1: Your lists must be the same length\"\n",
    "    assert len(population_by_region) == 28, \"Q1: There should be 28 teams being analysed for NHL\"\n",
    "    \n",
    "    return np.float64(stats.pearsonr(population_by_region, win_loss_by_region)[0])\n",
    "\n",
    "\n",
    "def get_nhl_data():\n",
    "    return out_df"
   ]
  },
  {
   "cell_type": "code",
   "execution_count": null,
   "metadata": {
    "deletable": false,
    "editable": false,
    "nbgrader": {
     "cell_type": "code",
     "checksum": "52a581df513c71153e105b93764cda4b",
     "grade": true,
     "grade_id": "cell-ebe0b2dfe1067e63",
     "locked": true,
     "points": 20,
     "schema_version": 3,
     "solution": false
    }
   },
   "outputs": [],
   "source": []
  },
  {
   "cell_type": "code",
   "execution_count": 90,
   "metadata": {},
   "outputs": [
    {
     "data": {
      "text/plain": [
       "0.01230899645574425"
      ]
     },
     "execution_count": 90,
     "metadata": {},
     "output_type": "execute_result"
    }
   ],
   "source": [
    "nhl_correlation()"
   ]
  },
  {
   "cell_type": "markdown",
   "metadata": {
    "deletable": false,
    "editable": false,
    "nbgrader": {
     "cell_type": "markdown",
     "checksum": "988912cae4968d81473f46d783e79c16",
     "grade": false,
     "grade_id": "cell-cb964e690298b71d",
     "locked": true,
     "schema_version": 3,
     "solution": false
    }
   },
   "source": [
    "## Question 2\n",
    "For this question, calculate the win/loss ratio's correlation with the population of the city it is in for the **NBA** using **2018** data."
   ]
  },
  {
   "cell_type": "code",
   "execution_count": 103,
   "metadata": {
    "deletable": false,
    "nbgrader": {
     "cell_type": "code",
     "checksum": "9394222aafc8ccab0a228098ba0d6010",
     "grade": false,
     "grade_id": "cell-5a5f21279e3d3572",
     "locked": false,
     "schema_version": 3,
     "solution": true
    }
   },
   "outputs": [],
   "source": [
    "import pandas as pd\n",
    "import numpy as np\n",
    "import scipy.stats as stats\n",
    "import re\n",
    "\n",
    "\n",
    "def clear_data(string1):\n",
    "    if re.search(r'\\[[a-z]* [0-9]+\\]', string1) is None:\n",
    "        return string1\n",
    "    else:\n",
    "        return string1.replace(re.search(r'\\[[a-z]* [0-9]+\\]', string1).group(), '')\n",
    "\n",
    "\n",
    "def clear_nba_data(string1):\n",
    "    if re.search(r'\\* \\([0-9]*\\)| \\([0-9]*\\)', string1) is None:\n",
    "        return string1\n",
    "    else:\n",
    "        return string1.replace(re.search(r'\\* \\([0-9]*\\)| \\([0-9]*\\)', string1).group(), '')\n",
    "\n",
    "\n",
    "def get_area(team):\n",
    "    for each in list(nba_cities.index.values):\n",
    "        if team in each:\n",
    "            return nba_cities.at[each, 'Metropolitan area']\n",
    "\n",
    "\n",
    "def get_nba_data():\n",
    "    return out_df\n",
    "\n",
    "\n",
    "population_by_region = []  # pass in metropolitan area population from cities\n",
    "win_loss_by_region = []  # pass in win/loss ratio from nhl_df in the same order as cities[\"Metropolitan area\"]\n",
    "nba_df = pd.read_csv(\"assets/nba.csv\")\n",
    "cities = pd.read_html(\"assets/wikipedia_data.html\")[1]\n",
    "cities = cities.iloc[:-1, [0, 3, 5, 6, 7, 8]]\n",
    "nba_df = nba_df[nba_df['year'] == 2018]  # get only 2018 stats no need of dropping rows\n",
    "population = cities[['Metropolitan area', 'Population (2016 est.)[8]']]\n",
    "population = population.set_index('Metropolitan area')\n",
    "cities['NBA'] = cities['NBA'].apply(lambda x: clear_data(x))\n",
    "nba_cities = cities[['Metropolitan area', 'NBA']].set_index('NBA')\n",
    "nba_cities = nba_cities.drop(['—', ''], axis=0)\n",
    "nba_df['team'] = nba_df['team'].apply(lambda x: clear_nba_data(x))\n",
    "nba_df['area'] = nba_df['team'].apply(lambda x: x.split(\" \")[-1])\n",
    "nba_df['area'] = nba_df['area'].apply(lambda x: get_area(x))\n",
    "out = []\n",
    "for group, frame in nba_df.groupby('area'):\n",
    "    total_wins = np.sum(pd.to_numeric(frame['W']))\n",
    "    total_losses = np.sum(pd.to_numeric(frame['L']))\n",
    "    total_matches = total_wins + total_losses\n",
    "    ratio = (total_wins / total_matches)\n",
    "    out_dict = {\n",
    "        'Area': group,\n",
    "        'Ratio': ratio\n",
    "    }\n",
    "    out.append(out_dict)\n",
    "new_df = pd.DataFrame(out)\n",
    "new_df = new_df.set_index('Area')\n",
    "out_df = pd.merge(new_df, population, how=\"inner\", left_index=True, right_index=True)\n",
    "out_df['Population (2016 est.)[8]'] = pd.to_numeric(out_df['Population (2016 est.)[8]'])\n",
    "population_by_region = out_df['Population (2016 est.)[8]'].to_list()\n",
    "win_loss_by_region = out_df['Ratio'].to_list()\n",
    "corr = stats.pearsonr(population_by_region, win_loss_by_region)[0]\n",
    "\n",
    "def nba_correlation():\n",
    "    population_by_region = []  # pass in metropolitan area population from cities\n",
    "    win_loss_by_region = []  # pass in win/loss ratio from nhl_df in the same order as cities[\"Metropolitan area\"]\n",
    "    population_by_region = out_df['Population (2016 est.)[8]'].to_list()\n",
    "    win_loss_by_region = out_df['Ratio'].to_list()\n",
    "\n",
    "    assert len(population_by_region) == len(win_loss_by_region), \"Q2: Your lists must be the same length\"\n",
    "    assert len(population_by_region) == 28, \"Q2: There should be 28 teams being analysed for NBA\"\n",
    "\n",
    "    return np.float64(stats.pearsonr(population_by_region, win_loss_by_region)[0])\n",
    "\n",
    "\n",
    "def get_nba_data():\n",
    "    return out_df"
   ]
  },
  {
   "cell_type": "code",
   "execution_count": null,
   "metadata": {
    "deletable": false,
    "editable": false,
    "nbgrader": {
     "cell_type": "code",
     "checksum": "bbdeb8eb22f525a34c10dc8798324e42",
     "grade": true,
     "grade_id": "cell-e573b2b4a282b470",
     "locked": true,
     "points": 20,
     "schema_version": 3,
     "solution": false
    }
   },
   "outputs": [],
   "source": []
  },
  {
   "cell_type": "code",
   "execution_count": 104,
   "metadata": {},
   "outputs": [
    {
     "data": {
      "text/plain": [
       "-0.17657160252844614"
      ]
     },
     "execution_count": 104,
     "metadata": {},
     "output_type": "execute_result"
    }
   ],
   "source": [
    "nba_correlation()"
   ]
  },
  {
   "cell_type": "markdown",
   "metadata": {
    "deletable": false,
    "editable": false,
    "nbgrader": {
     "cell_type": "markdown",
     "checksum": "1a1a5809f675ca033086422007cd73bd",
     "grade": false,
     "grade_id": "cell-96e15e4335df78f4",
     "locked": true,
     "schema_version": 3,
     "solution": false
    }
   },
   "source": [
    "## Question 3\n",
    "For this question, calculate the win/loss ratio's correlation with the population of the city it is in for the **MLB** using **2018** data."
   ]
  },
  {
   "cell_type": "code",
   "execution_count": 105,
   "metadata": {
    "deletable": false,
    "nbgrader": {
     "cell_type": "code",
     "checksum": "27e8c0da6c9fa0dffc10488314335b6c",
     "grade": false,
     "grade_id": "cell-33b00fc3f3467b0c",
     "locked": false,
     "schema_version": 3,
     "solution": true
    }
   },
   "outputs": [],
   "source": [
    "\n",
    "import pandas as pd\n",
    "import numpy as np\n",
    "import scipy.stats as stats\n",
    "import re\n",
    "\n",
    "\n",
    "def clear_data(string1):\n",
    "    if re.search(r'\\[[a-z]* [0-9]+\\]', string1) is None:\n",
    "        return string1\n",
    "    else:\n",
    "        return string1.replace(re.search(r'\\[[a-z]* [0-9]+\\]', string1).group(), '')\n",
    "\n",
    "\n",
    "def get_area(team):\n",
    "    for each in list(mlb_cities.index.values):\n",
    "        if team in each:\n",
    "            return mlb_cities.at[each, 'Metropolitan area']\n",
    "\n",
    "\n",
    "def get_mlb_data():\n",
    "    return out_df\n",
    "\n",
    "\n",
    "population_by_region = []  # pass in metropolitan area population from cities\n",
    "win_loss_by_region = []  # pass in win/loss ratio from nhl_df in the same order as cities[\"Metropolitan area\"]\n",
    "mlb_df = pd.read_csv(\"assets/mlb.csv\")\n",
    "cities = pd.read_html(\"assets/wikipedia_data.html\")[1]\n",
    "cities = cities.iloc[:-1,[0,3,5,6,7,8]]\n",
    "mlb_df = mlb_df[mlb_df['year'] == 2018]  # get only 2018 stats no need of dropping rows\n",
    "population = cities[['Metropolitan area', 'Population (2016 est.)[8]']]\n",
    "population = population.set_index('Metropolitan area')\n",
    "cities['MLB'] = cities['MLB'].apply(lambda x: clear_data(x))\n",
    "mlb_cities = cities[['Metropolitan area', 'MLB']].set_index('MLB')\n",
    "mlb_cities = mlb_cities.drop(['—', ''], axis=0)\n",
    "mlb_df['area'] = mlb_df['team'].apply(lambda x: x.split(\" \")[-1])\n",
    "mlb_df['area'] = mlb_df['area'].apply(lambda x: get_area(x))\n",
    "mlb_df.at[0, 'area'] = 'Boston'\n",
    "out = []\n",
    "for group, frame in mlb_df.groupby('area'):\n",
    "    total_wins = np.sum(pd.to_numeric(frame['W']))\n",
    "    total_losses = np.sum(pd.to_numeric(frame['L']))\n",
    "    total_matches = total_wins + total_losses\n",
    "    ratio = (total_wins / total_matches)\n",
    "    out_dict = {\n",
    "        'Area': group,\n",
    "        'Ratio': ratio\n",
    "    }\n",
    "    out.append(out_dict)\n",
    "new_df = pd.DataFrame(out)\n",
    "new_df = new_df.set_index('Area')\n",
    "out_df = pd.merge(new_df, population, how=\"inner\", left_index=True, right_index=True)\n",
    "out_df['Population (2016 est.)[8]'] = pd.to_numeric(out_df['Population (2016 est.)[8]'])\n",
    "population_by_region = out_df['Population (2016 est.)[8]'].to_list()\n",
    "win_loss_by_region = out_df['Ratio'].to_list()\n",
    "corr = stats.pearsonr(population_by_region, win_loss_by_region)[0]\n",
    "\n",
    "def mlb_correlation(): \n",
    "    population_by_region = []  # pass in metropolitan area population from cities\n",
    "    win_loss_by_region = []  # pass in win/loss ratio from nhl_df in the same order as cities[\"Metropolitan area\"]\n",
    "    population_by_region = out_df['Population (2016 est.)[8]'].to_list()\n",
    "    win_loss_by_region = out_df['Ratio'].to_list()\n",
    "\n",
    "    assert len(population_by_region) == len(win_loss_by_region), \"Q3: Your lists must be the same length\"\n",
    "    assert len(population_by_region) == 26, \"Q3: There should be 26 teams being analysed for MLB\"\n",
    "\n",
    "    return np.float64(stats.pearsonr(population_by_region, win_loss_by_region)[0])\n",
    "\n",
    "def get_mlb_data():\n",
    "    return out_df"
   ]
  },
  {
   "cell_type": "code",
   "execution_count": 106,
   "metadata": {},
   "outputs": [
    {
     "data": {
      "text/plain": [
       "0.1505230448710485"
      ]
     },
     "execution_count": 106,
     "metadata": {},
     "output_type": "execute_result"
    }
   ],
   "source": [
    "mlb_correlation()"
   ]
  },
  {
   "cell_type": "code",
   "execution_count": null,
   "metadata": {
    "deletable": false,
    "editable": false,
    "nbgrader": {
     "cell_type": "code",
     "checksum": "cda33b094ba19ccc37a481e0dd29e0bc",
     "grade": true,
     "grade_id": "cell-764d4476f425c5a2",
     "locked": true,
     "points": 20,
     "schema_version": 3,
     "solution": false
    }
   },
   "outputs": [],
   "source": []
  },
  {
   "cell_type": "markdown",
   "metadata": {
    "deletable": false,
    "editable": false,
    "nbgrader": {
     "cell_type": "markdown",
     "checksum": "6977a6da9ed6d8b7a0b7e37bbeda709b",
     "grade": false,
     "grade_id": "cell-793df6c04dfb126e",
     "locked": true,
     "schema_version": 3,
     "solution": false
    }
   },
   "source": [
    "## Question 4\n",
    "For this question, calculate the win/loss ratio's correlation with the population of the city it is in for the **NFL** using **2018** data."
   ]
  },
  {
   "cell_type": "code",
   "execution_count": 107,
   "metadata": {
    "deletable": false,
    "nbgrader": {
     "cell_type": "code",
     "checksum": "c4914ad1e119278ec2bd567c52640b66",
     "grade": false,
     "grade_id": "cell-8ccebc209aeec8d9",
     "locked": false,
     "schema_version": 3,
     "solution": true
    }
   },
   "outputs": [],
   "source": [
    "import pandas as pd\n",
    "import numpy as np\n",
    "import scipy.stats as stats\n",
    "import re\n",
    "\n",
    "\n",
    "def clear_data(string1):\n",
    "    if re.search(r'\\[[a-z]* [0-9]+\\]', string1) is None:\n",
    "        return string1\n",
    "    else:\n",
    "        return string1.replace(re.search(r'\\[[a-z]* [0-9]+\\]', string1).group(), '')\n",
    "\n",
    "\n",
    "def clear_nba_data(string1):\n",
    "    if re.search(r'\\*|\\+', string1) is None:\n",
    "        return string1\n",
    "    else:\n",
    "        return string1.replace(re.search(r'\\*|\\+', string1).group(), '')\n",
    "\n",
    "\n",
    "def get_area(team):\n",
    "    for each in list(nfl_cities.index.values):\n",
    "        if team in each:\n",
    "            return nfl_cities.at[each, 'Metropolitan area']\n",
    "\n",
    "\n",
    "def get_nfl_data():\n",
    "    return out_df\n",
    "\n",
    "\n",
    "population_by_region = []  # pass in metropolitan area population from cities\n",
    "win_loss_by_region = []  # pass in win/loss ratio from nhl_df in the same order as cities[\"Metropolitan area\"]\n",
    "nfl_df = pd.read_csv(\"assets/nfl.csv\")\n",
    "cities = pd.read_html(\"assets/wikipedia_data.html\")[1]\n",
    "cities = cities.iloc[:-1,[0,3,5,6,7,8]]\n",
    "nfl_df = nfl_df[nfl_df['year'] == 2018].drop([0, 5, 10, 15, 20, 25, 30, 35])  # get only 2018 stats\n",
    "population = cities[['Metropolitan area', 'Population (2016 est.)[8]']]\n",
    "population = population.set_index('Metropolitan area')\n",
    "cities['NFL'] = cities['NFL'].apply(lambda x: clear_data(x))\n",
    "nfl_cities = cities[['Metropolitan area', 'NFL']].set_index('NFL')\n",
    "nfl_cities = nfl_cities.drop(['—', ''], axis=0)\n",
    "nfl_df['team'] = nfl_df['team'].apply(lambda x: clear_nba_data(x))\n",
    "nfl_df['area'] = nfl_df['team'].apply(lambda x: x.split(\" \")[-1])\n",
    "nfl_df['area'] = nfl_df['area'].apply(lambda x: get_area(x))\n",
    "out = []\n",
    "for group, frame in nfl_df.groupby('area'):\n",
    "    total_wins = np.sum(pd.to_numeric(frame['W']))\n",
    "    total_losses = np.sum(pd.to_numeric(frame['L']))\n",
    "    total_matches = total_wins + total_losses\n",
    "    ratio = (total_wins / total_matches)\n",
    "    out_dict = {\n",
    "        'Area': group,\n",
    "        'Ratio': ratio\n",
    "    }\n",
    "    out.append(out_dict)\n",
    "new_df = pd.DataFrame(out)\n",
    "new_df = new_df.set_index('Area')\n",
    "out_df = pd.merge(new_df, population, how=\"inner\", left_index=True, right_index=True)\n",
    "out_df['Population (2016 est.)[8]'] = pd.to_numeric(out_df['Population (2016 est.)[8]'])\n",
    "population_by_region = out_df['Population (2016 est.)[8]'].to_list()\n",
    "win_loss_by_region = out_df['Ratio'].to_list()\n",
    "corr = stats.pearsonr(population_by_region, win_loss_by_region)[0]\n",
    "\n",
    "def nfl_correlation(): \n",
    "    population_by_region = []  # pass in metropolitan area population from cities\n",
    "    win_loss_by_region = []  # pass in win/loss ratio from nhl_df in the same order as cities[\"Metropolitan area\"]\n",
    "    population_by_region = out_df['Population (2016 est.)[8]'].to_list()\n",
    "    win_loss_by_region = out_df['Ratio'].to_list()\n",
    "\n",
    "    assert len(population_by_region) == len(win_loss_by_region), \"Q4: Your lists must be the same length\"\n",
    "    assert len(population_by_region) == 29, \"Q4: There should be 29 teams being analysed for NFL\"\n",
    "\n",
    "    return np.float64(stats.pearsonr(population_by_region, win_loss_by_region)[0])\n",
    "\n",
    "def get_nfl_data():\n",
    "    return out_df"
   ]
  },
  {
   "cell_type": "code",
   "execution_count": null,
   "metadata": {
    "deletable": false,
    "editable": false,
    "nbgrader": {
     "cell_type": "code",
     "checksum": "e9415d6399aa49e3a1a60813afdefa3b",
     "grade": true,
     "grade_id": "cell-de7b148b9554dbda",
     "locked": true,
     "points": 20,
     "schema_version": 3,
     "solution": false
    }
   },
   "outputs": [],
   "source": []
  },
  {
   "cell_type": "code",
   "execution_count": 108,
   "metadata": {},
   "outputs": [
    {
     "data": {
      "text/plain": [
       "0.004922112149349409"
      ]
     },
     "execution_count": 108,
     "metadata": {},
     "output_type": "execute_result"
    }
   ],
   "source": [
    "nfl_correlation()"
   ]
  },
  {
   "cell_type": "markdown",
   "metadata": {
    "deletable": false,
    "editable": false,
    "nbgrader": {
     "cell_type": "markdown",
     "checksum": "b02d5cd3273f561e4ae939bb2a41740c",
     "grade": false,
     "grade_id": "cell-97b49d8639e908c4",
     "locked": true,
     "schema_version": 3,
     "solution": false
    }
   },
   "source": [
    "## Question 5\n",
    "In this question I would like you to explore the hypothesis that **given that an area has two sports teams in different sports, those teams will perform the same within their respective sports**. How I would like to see this explored is with a series of paired t-tests (so use [`ttest_rel`](https://docs.scipy.org/doc/scipy/reference/generated/scipy.stats.ttest_rel.html)) between all pairs of sports. Are there any sports where we can reject the null hypothesis? Again, average values where a sport has multiple teams in one region. Remember, you will only be including, for each sport, cities which have teams engaged in that sport, drop others as appropriate. This question is worth 20% of the grade for this assignment."
   ]
  },
  {
   "cell_type": "code",
   "execution_count": 109,
   "metadata": {
    "deletable": false,
    "nbgrader": {
     "cell_type": "code",
     "checksum": "6d78c961eb66f8d8c81f06d33ae8f393",
     "grade": false,
     "grade_id": "cell-92f25f44b8d1179f",
     "locked": false,
     "schema_version": 3,
     "solution": true
    }
   },
   "outputs": [
    {
     "name": "stdout",
     "output_type": "stream",
     "text": [
      "      NFL   NBA   NHL   MLB\n",
      "NFL   NaN  0.94  0.03  0.80\n",
      "NBA  0.94   NaN  0.02  0.95\n",
      "NHL  0.03  0.02   NaN  0.00\n",
      "MLB  0.80  0.95  0.00   NaN\n"
     ]
    }
   ],
   "source": [
    "import numpy as np\n",
    "import pandas as pd\n",
    "import scipy.stats as stats\n",
    "\n",
    "import mlb\n",
    "import nba\n",
    "import nfl\n",
    "import nhl\n",
    "\n",
    "MLB = mlb.get_mlb_data().drop('Population (2016 est.)[8]', axis=1)\n",
    "NHL = nhl.get_nhl_data().drop('Population (2016 est.)[8]', axis=1)\n",
    "NBA = nba.get_nba_data().drop('Population (2016 est.)[8]', axis=1)\n",
    "NFL = nfl.get_nfl_data().drop('Population (2016 est.)[8]', axis=1)\n",
    "cities = pd.read_html(\"assets/wikipedia_data.html\")[1]\n",
    "cities = cities.iloc[:-1, [0, 3, 5, 6, 7, 8]]\n",
    "data_set = {'NFL': NFL,\n",
    "            'NBA': NBA,\n",
    "            'NHL': NHL,\n",
    "            'MLB': MLB}\n",
    "sports = ['NFL', 'NBA', 'NHL', 'MLB']\n",
    "\n",
    "\n",
    "def get_p_value(k):\n",
    "    p_values = []\n",
    "    for each in sports:\n",
    "        df = pd.merge(data_set[k], data_set[each], how=\"inner\", left_index=True, right_index=True)\n",
    "        nhl_corr = stats.ttest_rel(df['Ratio_x'], df['Ratio_y'])[1]\n",
    "        nhl_corr = round(nhl_corr, 2)\n",
    "        p_values.append(nhl_corr)\n",
    "    return p_values\n",
    "\n",
    "\n",
    "def sports_team_performance():\n",
    "    sports = ['NFL', 'NBA', 'NHL', 'MLB']\n",
    "    p_values = pd.DataFrame({k: get_p_value(k) for k in sports}, index=sports)\n",
    "    return p_values\n",
    "\n",
    "\n",
    "print(sports_team_performance())"
   ]
  },
  {
   "cell_type": "code",
   "execution_count": 110,
   "metadata": {},
   "outputs": [
    {
     "name": "stdout",
     "output_type": "stream",
     "text": [
      "      NFL   NBA   NHL   MLB\n",
      "NFL   NaN  0.94  0.03  0.80\n",
      "NBA  0.94   NaN  0.02  0.95\n",
      "NHL  0.03  0.02   NaN  0.00\n",
      "MLB  0.80  0.95  0.00   NaN\n"
     ]
    }
   ],
   "source": [
    "print(sports_team_performance())"
   ]
  },
  {
   "cell_type": "code",
   "execution_count": null,
   "metadata": {
    "deletable": false,
    "editable": false,
    "nbgrader": {
     "cell_type": "code",
     "checksum": "2a596ab421a45cc01168d10e8fbb8f89",
     "grade": true,
     "grade_id": "cell-fb4b9cb5ff4570a6",
     "locked": true,
     "points": 20,
     "schema_version": 3,
     "solution": false
    }
   },
   "outputs": [],
   "source": []
  },
  {
   "cell_type": "code",
   "execution_count": null,
   "metadata": {},
   "outputs": [],
   "source": []
  }
 ],
 "metadata": {
  "kernelspec": {
   "display_name": "Python 3 (ipykernel)",
   "language": "python",
   "name": "python3"
  },
  "language_info": {
   "codemirror_mode": {
    "name": "ipython",
    "version": 3
   },
   "file_extension": ".py",
   "mimetype": "text/x-python",
   "name": "python",
   "nbconvert_exporter": "python",
   "pygments_lexer": "ipython3",
   "version": "3.9.13"
  }
 },
 "nbformat": 4,
 "nbformat_minor": 4
}
