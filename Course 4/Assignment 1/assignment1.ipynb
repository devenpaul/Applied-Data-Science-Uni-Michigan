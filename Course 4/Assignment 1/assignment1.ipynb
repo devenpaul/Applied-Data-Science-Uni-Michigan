{
 "cells": [
  {
   "cell_type": "markdown",
   "metadata": {
    "deletable": false,
    "editable": false,
    "nbgrader": {
     "cell_type": "markdown",
     "checksum": "cacf7f4360d6d53c622742f64048f72c",
     "grade": false,
     "grade_id": "cell-8a754c8ce8a16eeb",
     "locked": true,
     "schema_version": 3,
     "solution": false,
     "task": false
    }
   },
   "source": [
    "# Assignment 1\n",
    "\n",
    "In this assignment, you'll be working with messy medical data and using regex to extract relevant infromation from the data. \n",
    "\n",
    "Each line of the `dates.txt` file corresponds to a medical note. Each note has a date that needs to be extracted, but each date is encoded in one of many formats.\n",
    "\n",
    "The goal of this assignment is to correctly identify all of the different date variants encoded in this dataset and to properly normalize and sort the dates. \n",
    "\n",
    "Here is a list of some of the variants you might encounter in this dataset:\n",
    "* 04/20/2009; 04/20/09; 4/20/09; 4/3/09\n",
    "* Mar-20-2009; Mar 20, 2009; March 20, 2009;  Mar. 20, 2009; Mar 20 2009;\n",
    "* 20 Mar 2009; 20 March 2009; 20 Mar. 2009; 20 March, 2009\n",
    "* Mar 20th, 2009; Mar 21st, 2009; Mar 22nd, 2009\n",
    "* Feb 2009; Sep 2009; Oct 2010\n",
    "* 6/2008; 12/2009\n",
    "* 2009; 2010\n",
    "\n",
    "Once you have extracted these date patterns from the text, the next step is to sort them in ascending chronological order accoring to the following rules:\n",
    "* Assume all dates in xx/xx/xx format are mm/dd/yy\n",
    "* Assume all dates where year is encoded in only two digits are years from the 1900's (e.g. 1/5/89 is January 5th, 1989)\n",
    "* If the day is missing (e.g. 9/2009), assume it is the first day of the month (e.g. September 1, 2009).\n",
    "* If the month is missing (e.g. 2010), assume it is the first of January of that year (e.g. January 1, 2010).\n",
    "* Watch out for potential typos as this is a raw, real-life derived dataset.\n",
    "\n",
    "With these rules in mind, find the correct date in each note and return a pandas Series in chronological order of the original Series' indices. **This Series should be sorted by a tie-break sort in the format of (\"extracted date\", \"original row number\").**\n",
    "\n",
    "For example if the original series was this:\n",
    "\n",
    "    0    1999\n",
    "    1    2010\n",
    "    2    1978\n",
    "    3    2015\n",
    "    4    1985\n",
    "\n",
    "Your function should return this:\n",
    "\n",
    "    0    2\n",
    "    1    4\n",
    "    2    0\n",
    "    3    1\n",
    "    4    3\n",
    "\n",
    "Your score will be calculated using [Kendall's tau](https://en.wikipedia.org/wiki/Kendall_rank_correlation_coefficient), a correlation measure for ordinal data.\n",
    "\n",
    "*This function should return a Series of length 500 and dtype int.*"
   ]
  },
  {
   "cell_type": "code",
   "execution_count": 24,
   "metadata": {
    "deletable": false,
    "editable": false,
    "nbgrader": {
     "cell_type": "code",
     "checksum": "4b47ce38a503bfb1f113580f394d8667",
     "grade": false,
     "grade_id": "cell-28048f36edc32946",
     "locked": true,
     "schema_version": 3,
     "solution": false,
     "task": false
    }
   },
   "outputs": [
    {
     "data": {
      "text/plain": [
       "0         03/25/93 Total time of visit (in minutes):\\n\n",
       "1                       6/18/85 Primary Care Doctor:\\n\n",
       "2    sshe plans to move as of 7/8/71 In-Home Servic...\n",
       "3                7 on 9/27/75 Audit C Score Current:\\n\n",
       "4    2/6/96 sleep studyPain Treatment Pain Level (N...\n",
       "5                    .Per 7/06/79 Movement D/O note:\\n\n",
       "6    4, 5/18/78 Patient's thoughts about current su...\n",
       "7    10/24/89 CPT Code: 90801 - Psychiatric Diagnos...\n",
       "8                         3/7/86 SOS-10 Total Score:\\n\n",
       "9             (4/10/71)Score-1Audit C Score Current:\\n\n",
       "dtype: object"
      ]
     },
     "execution_count": 24,
     "metadata": {},
     "output_type": "execute_result"
    }
   ],
   "source": [
    "import pandas as pd\n",
    "\n",
    "doc = []\n",
    "with open('assets/dates.txt') as file:\n",
    "    for line in file:\n",
    "        doc.append(line)\n",
    "\n",
    "df = pd.Series(doc)\n",
    "df.head(10)"
   ]
  },
  {
   "cell_type": "code",
   "execution_count": 32,
   "metadata": {
    "deletable": false,
    "nbgrader": {
     "cell_type": "code",
     "checksum": "3e58e227860ae4b02d6bdddd81506787",
     "grade": false,
     "grade_id": "cell-d6f35a51303ed6ff",
     "locked": false,
     "schema_version": 3,
     "solution": true,
     "task": false
    }
   },
   "outputs": [],
   "source": [
    "import numpy as np\n",
    "from datetime import datetime\n",
    "\n",
    "def date_sorter():\n",
    "    \n",
    "    # Extract dates in MM/DD/YY and MM/DD/YYYY formats\n",
    "    dates_mmddyy = df.str.extractall(r'(\\d{1,2})[/-](\\d{1,2})[/-](\\d{2})\\b')\n",
    "    dates_mmddyyyy = df.str.extractall(r'(\\d{1,2})[/-](\\d{1,2})[/-](\\d{4})\\b')\n",
    "    combined_dates_1 = pd.concat([dates_mmddyy, dates_mmddyyyy])\n",
    "    combined_dates_1.reset_index(inplace=True)\n",
    "    indices_dates_1 = combined_dates_1['level_0']\n",
    "    \n",
    "    # Extract dates in formats like \"Month DD, YYYY\"\n",
    "    dates_month_day_year = df.str.extractall(r'((?:Jan|Feb|Mar|Apr|May|Jun|Jul|Aug|Sep|Oct|Nov|Dec)[a-z]*[-.]* )((?:\\d{1,2}[?:, -]*)\\d{4})')\n",
    "    dates_month_day_year.reset_index(inplace=True)\n",
    "    indices_dates_2 = dates_month_day_year['level_0']\n",
    "    \n",
    "    # Extract dates in formats like \"DD Month YYYY\"\n",
    "    dates_day_month_year = df.str.extractall(r'((?:\\d{1,2} ))?((?:Jan|Feb|Mar|Apr|May|Jun|Jul|Aug|Sep|Oct|Nov|Dec)[a-z]*[?:, -]* )(\\d{4})')\n",
    "    dates_day_month_year.reset_index(inplace=True)\n",
    "    indices_dates_3 = dates_day_month_year['level_0']\n",
    "    \n",
    "    # Extract dates in formats like MM/YYYY\n",
    "    dates_month_year = df.str.extractall(r'(\\d{1,2})[/](\\d{4})')\n",
    "    dates_month_year.reset_index(inplace=True)\n",
    "    indices_dates_4 = dates_month_year['level_0']\n",
    "    remaining_indices = []\n",
    "    for i in indices_dates_4:\n",
    "        if not (i in indices_dates_1.values):\n",
    "            remaining_indices.append(i)\n",
    "    remaining_indices = np.asarray(remaining_indices)\n",
    "    dates_month_year = dates_month_year[dates_month_year['level_0'].isin(remaining_indices)]\n",
    "\n",
    "    # Extract years only\n",
    "    years_only_1 = df.str.extractall(r'[a-z]?[^0-9](\\d{4})[^0-9]')\n",
    "    years_only_2 = df.str.extractall(r'^(\\d{4})[^0-9]')\n",
    "    combined_years = pd.concat([years_only_1, years_only_2])\n",
    "    combined_years.reset_index(inplace=True)\n",
    "    indices_years = combined_years['level_0']\n",
    "    remaining_indices_years = []\n",
    "    for i in indices_years:\n",
    "        if not ((i in indices_dates_2.values) | (i in indices_dates_3.values) | (i in indices_dates_4.values)):\n",
    "            remaining_indices_years.append(i)\n",
    "    remaining_indices_years = np.asarray(remaining_indices_years)\n",
    "    combined_years = combined_years[combined_years['level_0'].isin(remaining_indices_years)]\n",
    "    \n",
    "    # Combine all indices\n",
    "    all_indices = combined_dates_1.level_0.values.tolist() + \\\n",
    "                  dates_month_day_year.level_0.values.tolist() + \\\n",
    "                  dates_day_month_year.level_0.values.tolist() + \\\n",
    "                  dates_month_year.level_0.values.tolist() + \\\n",
    "                  combined_years.level_0.values.tolist()\n",
    "    all_indices = np.asarray(all_indices)\n",
    "    \n",
    "    # Rename and process extracted columns\n",
    "    combined_dates_1.columns = ['level_0', 'match', 'month', 'day', 'year']\n",
    "    combined_dates_1['year'] = combined_dates_1['year'].apply(str)\n",
    "    combined_dates_1['year'] = combined_dates_1['year'].apply(lambda x: '19' + x if len(x) <= 2 else x)\n",
    "   \n",
    "    dates_month_day_year[1] = dates_month_day_year[1].apply(lambda x: x.replace(',', ''))\n",
    "    dates_month_day_year['day'] = dates_month_day_year[1].apply(lambda x: x.split(' ')[0])\n",
    "    dates_month_day_year['year'] = dates_month_day_year[1].apply(lambda x: x.split(' ')[1])\n",
    "    dates_month_day_year.columns = ['level_0', 'match', 'month', 'day-year', 'day', 'year']\n",
    "    dates_month_day_year.drop('day-year', axis=1, inplace=True) \n",
    "    \n",
    "    dates_day_month_year.columns = ['level_0', 'match', 'day', 'month', 'year']\n",
    "    dates_day_month_year['day'] = dates_day_month_year['day'].replace(np.nan, -99)\n",
    "    dates_day_month_year['day'] = dates_day_month_year['day'].apply(lambda x: 1 if int(x) == -99 else x)\n",
    "    dates_day_month_year['month'] = dates_day_month_year['month'].apply(lambda x: x[:3])\n",
    "    dates_day_month_year['month'] = pd.to_datetime(dates_day_month_year['month'], format='%b').dt.month\n",
    "    \n",
    "    dates_month_year.columns = ['level_0', 'match', 'month', 'year']\n",
    "    dates_month_year['day'] = 1\n",
    "  \n",
    "    combined_years.columns = ['level_0', 'match', 'year']\n",
    "    combined_years['day'] = 1\n",
    "    combined_years['month'] = 1\n",
    "   \n",
    "    # Combine all extracted and normalized dates\n",
    "    final_data = pd.concat([combined_dates_1, dates_month_day_year, dates_day_month_year, dates_month_year, combined_years])\n",
    "    final_data['date'] = pd.to_datetime(final_data['month'].apply(str) + '/' + final_data['day'].apply(str) + '/' + final_data['year'].apply(str))\n",
    "    final_data = final_data.sort_values(by='level_0').set_index('level_0')\n",
    "\n",
    "    # Create final answer\n",
    "    sorted_dates = final_data['date']\n",
    "    answer = pd.Series([i[0] for i in sorted(enumerate(sorted_dates), key=lambda x: x[1])], np.arange(500))\n",
    "    return answer\n"
   ]
  },
  {
   "cell_type": "code",
   "execution_count": 33,
   "metadata": {},
   "outputs": [
    {
     "name": "stdout",
     "output_type": "stream",
     "text": [
      "0        9\n",
      "1       84\n",
      "2        2\n",
      "3       53\n",
      "4       28\n",
      "      ... \n",
      "495    427\n",
      "496    141\n",
      "497    186\n",
      "498    161\n",
      "499    413\n",
      "Length: 500, dtype: int64\n"
     ]
    }
   ],
   "source": [
    "print(date_sorter())"
   ]
  },
  {
   "cell_type": "code",
   "execution_count": null,
   "metadata": {
    "deletable": false,
    "editable": false,
    "nbgrader": {
     "cell_type": "code",
     "checksum": "c0843c1f0ad2aaa45fa9ac4012f1aa43",
     "grade": true,
     "grade_id": "cell-373f878879c00996",
     "locked": true,
     "points": 4,
     "schema_version": 3,
     "solution": false,
     "task": false
    }
   },
   "outputs": [],
   "source": []
  },
  {
   "cell_type": "code",
   "execution_count": null,
   "metadata": {
    "deletable": false,
    "editable": false,
    "nbgrader": {
     "cell_type": "code",
     "checksum": "0e2f5bb6bab79c07a81ec366c46c4d49",
     "grade": true,
     "grade_id": "cell-0ebae76e6cd794be",
     "locked": true,
     "points": 1,
     "schema_version": 3,
     "solution": false,
     "task": false
    }
   },
   "outputs": [],
   "source": []
  }
 ],
 "metadata": {
  "coursera": {
   "course_slug": "python-text-mining",
   "graded_item_id": "LvcWI",
   "launcher_item_id": "krne9",
   "part_id": "Mkp1I"
  },
  "kernelspec": {
   "display_name": "Python 3 (ipykernel)",
   "language": "python",
   "name": "python3"
  },
  "language_info": {
   "codemirror_mode": {
    "name": "ipython",
    "version": 3
   },
   "file_extension": ".py",
   "mimetype": "text/x-python",
   "name": "python",
   "nbconvert_exporter": "python",
   "pygments_lexer": "ipython3",
   "version": "3.9.13"
  },
  "vscode": {
   "interpreter": {
    "hash": "aee8b7b246df8f9039afb4144a1f6fd8d2ca17a180786b69acc140d282b71a49"
   }
  }
 },
 "nbformat": 4,
 "nbformat_minor": 4
}
